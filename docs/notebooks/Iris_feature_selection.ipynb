{
 "cells": [
  {
   "cell_type": "markdown",
   "source": [
    "# Iris Feature Selection"
   ],
   "metadata": {
    "collapsed": false
   }
  },
  {
   "cell_type": "code",
   "execution_count": 1,
   "outputs": [],
   "source": [
    "import matplotlib.pyplot as plt\n",
    "from sklearn_genetic import GAFeatureSelectionCV\n",
    "from sklearn_genetic.plots import plot_fitness_evolution\n",
    "from sklearn.model_selection import train_test_split, StratifiedKFold\n",
    "from sklearn.svm import SVC\n",
    "from sklearn.datasets import load_iris\n",
    "from sklearn.metrics import accuracy_score\n",
    "import numpy as np\n"
   ],
   "metadata": {
    "collapsed": false,
    "pycharm": {
     "name": "#%%\n"
    }
   }
  },
  {
   "cell_type": "markdown",
   "source": [
    "### Import the data and split it in train and test sets\n",
    "Random noise is added to simulate useless variables\n"
   ],
   "metadata": {
    "collapsed": false
   }
  },
  {
   "cell_type": "code",
   "execution_count": 2,
   "outputs": [
    {
     "data": {
      "text/plain": "(150, 14)"
     },
     "execution_count": 2,
     "metadata": {},
     "output_type": "execute_result"
    }
   ],
   "source": [
    "data = load_iris()\n",
    "X, y = data[\"data\"], data[\"target\"]\n",
    "\n",
    "noise = np.random.uniform(0, 10, size=(X.shape[0], 10))\n",
    "\n",
    "X = np.hstack((X, noise))\n",
    "X.shape"
   ],
   "metadata": {
    "collapsed": false,
    "pycharm": {
     "name": "#%%\n"
    }
   }
  },
  {
   "cell_type": "markdown",
   "source": [
    "### Split the training and test data"
   ],
   "metadata": {
    "collapsed": false
   }
  },
  {
   "cell_type": "code",
   "execution_count": 3,
   "outputs": [],
   "source": [
    "X_train, X_test, y_train, y_test = train_test_split(X, y, test_size=0.33, random_state=0)"
   ],
   "metadata": {
    "collapsed": false,
    "pycharm": {
     "name": "#%%\n"
    }
   }
  },
  {
   "cell_type": "markdown",
   "source": [
    "### Define the GAFeatureSelectionCV options\n"
   ],
   "metadata": {
    "collapsed": false
   }
  },
  {
   "cell_type": "code",
   "execution_count": 4,
   "outputs": [],
   "source": [
    "clf = SVC(gamma='auto')\n",
    "\n",
    "evolved_estimator = GAFeatureSelectionCV(\n",
    "    estimator=clf,\n",
    "    cv=3,\n",
    "    scoring=\"accuracy\",\n",
    "    population_size=30,\n",
    "    generations=20,\n",
    "    n_jobs=-1,\n",
    "    verbose=True,\n",
    "    keep_top_k=2,\n",
    "    elitism=True,\n",
    ")"
   ],
   "metadata": {
    "collapsed": false,
    "pycharm": {
     "name": "#%%\n"
    }
   }
  },
  {
   "cell_type": "markdown",
   "source": [
    "### Fit the model and see some results"
   ],
   "metadata": {
    "collapsed": false
   }
  },
  {
   "cell_type": "code",
   "execution_count": 5,
   "outputs": [
    {
     "name": "stdout",
     "output_type": "stream",
     "text": [
      "INSTANCE\n",
      "True\n",
      "gen\tnevals\tfitness \tfitness_std\tfitness_max\tfitness_min\n",
      "0  \t30    \t0.558444\t0.155441   \t0.893333   \t0.253333   \n",
      "1  \t54    \t0.659333\t0.132948   \t0.893333   \t0.333333   \n",
      "2  \t54    \t0.742667\t0.0867111  \t0.893333   \t0.586667   \n",
      "3  \t55    \t0.805778\t0.0740117  \t0.893333   \t0.653333   \n",
      "4  \t52    \t0.873333\t0.0435125  \t0.906667   \t0.746667   \n",
      "5  \t53    \t0.896222\t0.00659592 \t0.913333   \t0.893333   \n",
      "6  \t55    \t0.901111\t0.0131186  \t0.953333   \t0.893333   \n",
      "7  \t54    \t0.911778\t0.0206332  \t0.953333   \t0.893333   \n",
      "8  \t50    \t0.926444\t0.0210455  \t0.953333   \t0.893333   \n",
      "9  \t51    \t0.941333\t0.020177   \t0.966667   \t0.913333   \n",
      "10 \t49    \t0.955556\t0.00978787 \t0.966667   \t0.913333   \n",
      "11 \t55    \t0.959111\t0.00660714 \t0.966667   \t0.953333   \n",
      "12 \t57    \t0.965333\t0.004      \t0.966667   \t0.953333   \n",
      "13 \t55    \t0.966444\t0.00271257 \t0.973333   \t0.953333   \n",
      "14 \t58    \t0.966667\t6.66134e-16\t0.966667   \t0.966667   \n",
      "15 \t53    \t0.966889\t0.0011967  \t0.973333   \t0.966667   \n",
      "16 \t56    \t0.967556\t0.00226623 \t0.973333   \t0.966667   \n",
      "17 \t53    \t0.969556\t0.00330357 \t0.973333   \t0.966667   \n",
      "18 \t51    \t0.971111\t0.0031427  \t0.973333   \t0.966667   \n",
      "19 \t58    \t0.972889\t0.00166296 \t0.973333   \t0.966667   \n",
      "20 \t54    \t0.973333\t3.33067e-16\t0.973333   \t0.973333   \n"
     ]
    }
   ],
   "source": [
    "evolved_estimator.fit(X, y)\n",
    "features = evolved_estimator.best_features_\n",
    "\n",
    "# Predict only with the subset of selected features\n",
    "y_predict_ga = evolved_estimator.predict(X_test[:, features])\n",
    "accuracy = accuracy_score(y_test, y_predict_ga)"
   ],
   "metadata": {
    "collapsed": false,
    "pycharm": {
     "name": "#%%\n"
    }
   }
  },
  {
   "cell_type": "code",
   "execution_count": 6,
   "outputs": [
    {
     "name": "stdout",
     "output_type": "stream",
     "text": [
      "[ True  True  True  True False False False False False False False False\n",
      " False False]\n",
      "accuracy score:  0.98\n"
     ]
    }
   ],
   "source": [
    "print(evolved_estimator.best_features_)\n",
    "print(\"accuracy score: \", \"{:.2f}\".format(accuracy))"
   ],
   "metadata": {
    "collapsed": false,
    "pycharm": {
     "name": "#%%\n"
    }
   }
  },
  {
   "cell_type": "code",
   "execution_count": 7,
   "outputs": [
    {
     "data": {
      "text/plain": "<Figure size 720x720 with 1 Axes>",
      "image/png": "[encoded data removed]"
     },
     "metadata": {},
     "output_type": "display_data"
    }
   ],
   "source": [
    "plot = plot_fitness_evolution(evolved_estimator, metric=\"fitness\")\n",
    "plt.show()\n"
   ],
   "metadata": {
    "collapsed": false,
    "pycharm": {
     "name": "#%%\n"
    }
   }
  }
 ],
 "metadata": {
  "kernelspec": {
   "display_name": "Python 3",
   "language": "python",
   "name": "python3"
  },
  "language_info": {
   "codemirror_mode": {
    "name": "ipython",
    "version": 2
   },
   "file_extension": ".py",
   "mimetype": "text/x-python",
   "name": "python",
   "nbconvert_exporter": "python",
   "pygments_lexer": "ipython2",
   "version": "2.7.6"
  }
 },
 "nbformat": 4,
 "nbformat_minor": 0
}